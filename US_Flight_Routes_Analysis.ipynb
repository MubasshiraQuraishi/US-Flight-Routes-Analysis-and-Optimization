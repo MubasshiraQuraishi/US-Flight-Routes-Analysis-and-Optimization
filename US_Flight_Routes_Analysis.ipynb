{
 "cells": [
  {
   "cell_type": "code",
   "execution_count": null,
   "id": "32aea54d",
   "metadata": {},
   "outputs": [],
   "source": [
    "import numpy as np\n",
    "import pandas as pd\n",
    "import matplotlib.pyplot as plt\n",
    "import seaborn as sns\n",
    "import warnings\n",
    "warnings.filterwarnings('ignore')"
   ]
  },
  {
   "cell_type": "code",
   "execution_count": null,
   "id": "a7225bf7",
   "metadata": {},
   "outputs": [],
   "source": [
    "pd.set_option('display.max_columns',None)"
   ]
  },
  {
   "cell_type": "code",
   "execution_count": null,
   "id": "7fb7592d",
   "metadata": {
    "scrolled": true
   },
   "outputs": [],
   "source": [
    "df = pd.read_csv(\"C:\\\\Users\\\\Mubasshira\\\\Downloads\\\\Consumer_Airfare_Report__Table_1a_-_All_U.S._Airport_Pair_Markets_20240712.csv\")\n",
    "df.head()"
   ]
  },
  {
   "cell_type": "markdown",
   "id": "07645c81",
   "metadata": {},
   "source": [
    "Here is an explanation of each column in your flight routes to US dataset:\n",
    "\n",
    "1. **`tbl`**: Indicates the table name or source reference. It seems to identify the specific dataset or table version being used, such as \"Table1a.\"\n",
    "\n",
    "2. **`Year`**: The year when the flight route data was recorded.\n",
    "\n",
    "3. **`quarter`**: The quarter of the year in which the flight route data was recorded. Typically, quarters are divided as:\n",
    "   - Q1: January - March\n",
    "   - Q2: April - June\n",
    "   - Q3: July - September\n",
    "   - Q4: October - December\n",
    "\n",
    "4. **`citymarketid_1`**: A unique identifier for the origin city market, which represents the larger metropolitan area or market of the departure city.\n",
    "\n",
    "5. **`citymarketid_2`**: A unique identifier for the destination city market, representing the larger metropolitan area or market of the arrival city.\n",
    "\n",
    "6. **`city1`**: The name of the origin city or metropolitan area.\n",
    "\n",
    "7. **`city2`**: The name of the destination city or metropolitan area.\n",
    "\n",
    "8. **`airportid_1`**: A unique identifier for the origin airport.\n",
    "\n",
    "9. **`airportid_2`**: A unique identifier for the destination airport.\n",
    "\n",
    "10. **`airport_1`**: The IATA airport code for the origin airport (e.g., \"ABE\" for Lehigh Valley International Airport in Allentown, PA).\n",
    "\n",
    "11. **`airport_2`**: The IATA airport code for the destination airport (e.g., \"PIE\" for St. Pete–Clearwater International Airport in Tampa, FL).\n",
    "\n",
    "12. **`nsmiles`**: The number of miles between the origin and destination airports, indicating the distance of the flight route.\n",
    "\n",
    "13. **`passengers`**: The number of passengers that flew on the specified route within the recorded time period.\n",
    "\n",
    "14. **`fare`**: The average fare paid by passengers on this route.\n",
    "\n",
    "15. **`carrier_lg`**: The airline carrier code for the largest market share carrier on this route.\n",
    "\n",
    "16. **`large_ms`**: The market share percentage of the largest carrier on this route.\n",
    "\n",
    "17. **`fare_lg`**: The average fare charged by the largest carrier on this route.\n",
    "\n",
    "18. **`carrier_low`**: The airline carrier code for the low-cost carrier on this route (if applicable).\n",
    "\n",
    "19. **`lf_ms`**: The market share percentage of the low-cost carrier on this route.\n",
    "\n",
    "20. **`fare_low`**: The average fare charged by the low-cost carrier on this route.\n",
    "\n",
    "21. **`Geocoded_City1`**: Possibly geocoded data or geographic coordinates (latitude and longitude) for the origin city, though the values appear to be missing (`NaN`) in the sample data provided.\n",
    "\n",
    "22. **`Geocoded_City2`**: Possibly geocoded data or geographic coordinates (latitude and longitude) for the destination city, also appearing to be missing (`NaN`) in the sample data.\n",
    "\n",
    "23. **`tbl1apk`**: A unique identifier for each record in the dataset, which appears to be a combination of several other fields like year, quarter, city/airport IDs, and airport codes. This serves as a unique key to identify each specific flight route entry.\n",
    "\n",
    "This dataset provides detailed information about flight routes between various U.S. cities, including passenger counts, fare information, and the carriers operating on these routes."
   ]
  },
  {
   "cell_type": "markdown",
   "id": "00a87101",
   "metadata": {},
   "source": [
    "# Data Cleansing"
   ]
  },
  {
   "cell_type": "code",
   "execution_count": null,
   "id": "cf176e4e",
   "metadata": {},
   "outputs": [],
   "source": [
    "df.head(2)"
   ]
  },
  {
   "cell_type": "code",
   "execution_count": null,
   "id": "786179b3",
   "metadata": {},
   "outputs": [],
   "source": [
    "df.drop(columns=['tbl','citymarketid_1','citymarketid_2','airportid_1','airportid_2', 'Geocoded_City1','Geocoded_City2',\n",
    "                 'tbl1apk'], inplace=True)"
   ]
  },
  {
   "cell_type": "code",
   "execution_count": null,
   "id": "91e9386a",
   "metadata": {
    "scrolled": false
   },
   "outputs": [],
   "source": [
    "df.dropna(subset=['carrier_lg','large_ms','fare_lg'],inplace=True)"
   ]
  },
  {
   "cell_type": "code",
   "execution_count": null,
   "id": "87c08dfd",
   "metadata": {},
   "outputs": [],
   "source": [
    "df.dropna(subset=['carrier_low','lf_ms','fare_low'],inplace=True)"
   ]
  },
  {
   "cell_type": "markdown",
   "id": "d21b9b92",
   "metadata": {},
   "source": [
    "# 1. Travel Demand Analysis"
   ]
  },
  {
   "cell_type": "markdown",
   "id": "1cea73e0",
   "metadata": {},
   "source": [
    "**Visualizations:**"
   ]
  },
  {
   "cell_type": "code",
   "execution_count": null,
   "id": "081df890",
   "metadata": {},
   "outputs": [],
   "source": [
    "#Heatmap: To show passenger traffic between different city pairs.\n",
    "traffic_matrix = df.pivot_table(index='city1',columns='city2',values='passengers', aggfunc='sum')\n",
    "sns.set_style(\"darkgrid\")\n",
    "plt.figure(figsize=(12,5))\n",
    "sns.heatmap(traffic_matrix, cmap='inferno_r', linewidth=.6)\n",
    "plt.show()"
   ]
  },
  {
   "cell_type": "code",
   "execution_count": null,
   "id": "15800a01",
   "metadata": {},
   "outputs": [],
   "source": [
    "#Time Series Plot: Display the number of passengers over time to observe seasonal variations.\n",
    "quarter_passengers = df.groupby('quarter')['passengers'].sum()\n",
    "plt.figure(figsize=(8,3))\n",
    "sns.lineplot(x=quarter_passengers.index, y=quarter_passengers.values)\n",
    "plt.xticks([1,2,3,4])\n",
    "plt.title(\"Passengers travelling each Quarter\")\n",
    "plt.xlabel(\"Quarters\")\n",
    "plt.ylabel(\"Number of Passengers\")\n",
    "plt.show()"
   ]
  },
  {
   "cell_type": "code",
   "execution_count": null,
   "id": "bb37ec29",
   "metadata": {},
   "outputs": [],
   "source": [
    "#Bar Plot: Compare the number of passengers by route or airport.\n",
    "airport_passenger = df.groupby('airport_1')['passengers'].sum()\n",
    "plt.figure(figsize=(15,4))\n",
    "sns.barplot(x=airport_passenger.index, y=airport_passenger.values)\n",
    "plt.xlabel(\"airports\", fontsize=12)\n",
    "plt.xticks(rotation=90, fontsize=5)\n",
    "plt.show()"
   ]
  },
  {
   "cell_type": "code",
   "execution_count": null,
   "id": "400c9314",
   "metadata": {},
   "outputs": [],
   "source": [
    "#Histplot Chart: Show the distribution of passengers by city.\n",
    "city1_passengers = df.groupby('city1')['passengers'].sum()\n",
    "city2_passengers = df.groupby('city2')['passengers'].sum()\n",
    "\n",
    "plt.figure(figsize=(13,4))\n",
    "plt.subplot(2,1,1)\n",
    "sns.scatterplot(x=city1_passengers.index, y=city1_passengers.values, marker='D', size=city1_passengers.values)\n",
    "plt.xticks(rotation=90, fontsize=5)\n",
    "plt.title(\"Distribution of passengers from Origin City\")\n",
    "plt.xlabel(\"Origin City\")\n",
    "\n",
    "plt.figure(figsize=(13,4))\n",
    "plt.subplot(2,1,2)\n",
    "sns.scatterplot(x=city2_passengers.index, y=city2_passengers.values, marker='<', color='brown', size=city2_passengers.values)\n",
    "plt.xticks(rotation=90, fontsize=5)\n",
    "plt.title(\"Distribution of passengers from Destination City\")\n",
    "plt.xlabel(\"Destination City\")\n",
    "\n",
    "\n",
    "plt.show()"
   ]
  },
  {
   "cell_type": "markdown",
   "id": "18beef3b",
   "metadata": {},
   "source": [
    "**Statistical Analysis:**"
   ]
  },
  {
   "cell_type": "code",
   "execution_count": null,
   "id": "df83ada8",
   "metadata": {},
   "outputs": [],
   "source": [
    "#Descriptive Statistics: Calculate mean, median, and standard deviation of passenger counts.\n",
    "df['passengers'].describe()"
   ]
  },
  {
   "cell_type": "code",
   "execution_count": null,
   "id": "a8e5f28d",
   "metadata": {
    "scrolled": false
   },
   "outputs": [],
   "source": [
    "#Trend Analysis: Identify trends in passenger traffic over years.\n",
    "plt.figure(figsize=(11,4))\n",
    "sns.lineplot(x='Year', y='passengers', data=df, marker='+', color='brown')\n",
    "plt.xticks(range(1993, 2025, 2))\n",
    "plt.title(\"Passenger traffic over the years\")\n",
    "plt.show()"
   ]
  },
  {
   "cell_type": "code",
   "execution_count": null,
   "id": "ea7968e9",
   "metadata": {},
   "outputs": [],
   "source": [
    "#Correlation Analysis: Explore correlations between fare prices and passenger volume.\n",
    "price_passenger = df[['fare', 'passengers']]\n",
    "sns.heatmap(price_passenger.corr(), annot=True)\n",
    "plt.show()"
   ]
  },
  {
   "cell_type": "markdown",
   "id": "9c4d9936",
   "metadata": {},
   "source": [
    "**Insights from Travel demand Analysis graphs are as follows :**"
   ]
  },
  {
   "cell_type": "markdown",
   "id": "db9ce292",
   "metadata": {},
   "source": [
    "### Highest active traffic routes\n",
    "- Miami Florida to Niagara Falls NY\n",
    "- Louisville KY to San Diego CA\n",
    "- New York City NY to Omaha NE\n",
    "\n",
    "### Highest busy quarter every year\n",
    "- passengers have travelled mostly in second quarter i.e. in the month of April, May, June\n",
    "\n",
    "Here are the full forms for the airport codes you provided:\n",
    "\n",
    "### Major Airports:\n",
    "- **ORD**: O'Hare International Airport (Chicago, IL)\n",
    "- **BOS**: Logan International Airport (Boston, MA)\n",
    "- **LAX**: Los Angeles International Airport (Los Angeles, CA)\n",
    "\n",
    "### Smaller or Unusual Codes:\n",
    "- **TSS**: East 34th Street Heliport (New York, NY) - This is a heliport, not a regular airport.\n",
    "- **HFD**: Hartford-Brainard Airport (Hartford, CT)\n",
    "- **JRB**: Downtown Manhattan/Wall Street Heliport (New York, NY) - This is also a heliport.\n",
    "\n",
    "Note that **TSS** and **JRB** are heliports, which explains why their passenger counts might be zero, as they primarily handle helicopter traffic rather than regular commercial flights.\n",
    "\n",
    "\n",
    "### Highest distribution of passengers in cities are - \n",
    "- **city1 - from route** : Chicago IL, Los Angeles\n",
    "- **city2 - to route** : Newyork City NY, Washington DC\n",
    "\n",
    "### Passenger Traffic over the years:\n",
    "- Major decline in passengers is in 2020 due to covid 19.\n",
    "- Later on the numbers in passenger count increased extensively with 2023 being the highest passenger traffic year\n",
    "\n",
    "### Correlation between fare prices and volume of passengers\n",
    "- Weak Negative Correlation (-0.174): This suggests that as fare prices increase, the number of passengers tends to decrease slightly, but the relationship is not strong. In other words, higher fares might lead to a small reduction in passenger numbers, but many other factors could influence this relationship."
   ]
  },
  {
   "cell_type": "markdown",
   "id": "90d435fb",
   "metadata": {},
   "source": [
    "# 2. Market Research\n"
   ]
  },
  {
   "cell_type": "markdown",
   "id": "8f332ac5",
   "metadata": {},
   "source": [
    "**Visualization**"
   ]
  },
  {
   "cell_type": "code",
   "execution_count": null,
   "id": "b9792c73",
   "metadata": {},
   "outputs": [],
   "source": [
    "#Bar Plot: Compare fare prices across different carriers for the same route.\n",
    "import matplotlib.ticker as mticker\n",
    "plt.figure(figsize=(12,5))\n",
    "plt.subplot(2,1,1)\n",
    "sns.barplot(y='fare_lg', x='airport_1', data=df, estimator=sum)\n",
    "plt.xticks(rotation=90, fontsize=5)\n",
    "plt.title(\"Fare price for Large carrier by Flight Origin Route\")\n",
    "plt.gca().yaxis.set_major_formatter(mticker.FuncFormatter(lambda x, _: f'{int(x):,}'))\n",
    "\n",
    "plt.figure(figsize=(12,5))\n",
    "plt.subplot(2,1,2)\n",
    "sns.barplot(y='fare_low', x='airport_1', data=df, estimator=sum)\n",
    "plt.xticks(rotation=90, fontsize=4)\n",
    "plt.title(\"Fare price for Low carrier by Flight Origin Route\")\n",
    "plt.gca().yaxis.set_major_formatter(mticker.FuncFormatter(lambda x, _: f'{int(x):,}'))\n",
    "\n",
    "plt.show()"
   ]
  },
  {
   "cell_type": "code",
   "execution_count": null,
   "id": "1996353d",
   "metadata": {},
   "outputs": [],
   "source": [
    "fare_lg_airport_1 = df.groupby(\"airport_1\")['fare_lg'].sum()\n",
    "fare_lg_airport_1 = fare_lg_airport_1.sort_values(ascending=False).head(10)\n",
    "fare_low_airport_1 = df.groupby(\"airport_1\")['fare_low'].sum()\n",
    "fare_low_airport_1 = fare_low_airport_1.sort_values(ascending=False).head(10)\n",
    "\n",
    "import matplotlib.ticker as mticker\n",
    "plt.figure(figsize=(12,5))\n",
    "plt.subplot(2,1,1)\n",
    "sns.barplot(x=fare_lg_airport_1.index, y=fare_lg_airport_1.values)\n",
    "plt.gca().yaxis.set_major_formatter(mticker.FuncFormatter(lambda x, _: f'{int(x):,}'))\n",
    "plt.ylabel(\"fare\")\n",
    "plt.title(\"Top 10 fare price for large carrier airport\")\n",
    "\n",
    "plt.figure(figsize=(12,5))\n",
    "plt.subplot(2,1,2)\n",
    "sns.barplot(x=fare_low_airport_1.index, y=fare_low_airport_1.values)\n",
    "plt.gca().yaxis.set_major_formatter(mticker.FuncFormatter(lambda x, _: f'{int(x):,}'))\n",
    "plt.ylabel(\"fare\")\n",
    "plt.title(\"Top 10 fare price for low carrier airport\")\n",
    "\n",
    "plt.show()"
   ]
  },
  {
   "cell_type": "code",
   "execution_count": null,
   "id": "2b2783de",
   "metadata": {},
   "outputs": [],
   "source": [
    "#Scatter Plot: Analyze the relationship between fare prices and passenger count.\n",
    "plt.figure(figsize=(11,6))\n",
    "sns.scatterplot(x='fare', y='passengers', data=df, hue='fare', size='fare')\n",
    "plt.title(\"Exploring relationship between fare prices and passenger count\")\n",
    "plt.show()"
   ]
  },
  {
   "cell_type": "markdown",
   "id": "44bf55b1",
   "metadata": {},
   "source": [
    "**Statistical Analysis:**"
   ]
  },
  {
   "cell_type": "markdown",
   "id": "435a3e65",
   "metadata": {},
   "source": [
    "#ANOVA or T-test: Compare fare prices across different carriers to identify significant differences.\n",
    "\n",
    "- Since we have two groups of carriers (large and low), a T-test is appropriate to compare the mean fare prices between these two groups to determine if there's a statistically significant difference. Specifically, we would perform an independent samples T-test because the two groups (large carriers and low-cost carriers) are independent of each other.\n",
    "\n",
    "**Null Hypothesis (H₀): There is no significant difference in the fare prices between large carriers and low-cost carriers.**\n",
    "\n",
    "**Alternative Hypothesis (H₁): There is a significant difference in the fare prices between large carriers and low-cost carriers.**"
   ]
  },
  {
   "cell_type": "code",
   "execution_count": null,
   "id": "7ccbaecf",
   "metadata": {},
   "outputs": [],
   "source": [
    "from statsmodels.stats.weightstats import ttest_ind\n",
    "\n",
    "ttest_ind(df['fare_lg'], df['fare_low'])"
   ]
  },
  {
   "cell_type": "code",
   "execution_count": null,
   "id": "f7364e76",
   "metadata": {},
   "outputs": [],
   "source": [
    "#Let's quantify the difference in prices for large and low carriers\n",
    "import scipy.stats as stats\n",
    "mean_fare_lg = df['fare_lg'].mean()\n",
    "mean_fare_low = df['fare_low'].mean()\n",
    "\n",
    "mean_difference = mean_fare_lg - mean_fare_low\n",
    "print(f\"Mean Difference: {mean_difference}\")\n",
    "\n",
    "std_fare_lg = df['fare_lg'].std()\n",
    "std_fare_low = df['fare_low'].std()\n",
    "pooled_std = np.sqrt(((std_fare_lg ** 2) + (std_fare_low ** 2)) / 2)\n",
    "\n",
    "# Calculate Cohen's d\n",
    "cohens_d = (mean_fare_lg - mean_fare_low) / pooled_std\n",
    "\n",
    "print(f\"Cohen's d: {cohens_d}\")\n",
    "\n",
    "# Calculate the standard error of the difference\n",
    "n_fare_lg = df['fare_lg'].count()\n",
    "n_fare_low = df['fare_low'].count()\n",
    "\n",
    "se_difference = np.sqrt((std_fare_lg ** 2 / n_fare_lg) + (std_fare_low ** 2 / n_fare_low))\n",
    "\n",
    "# Calculate the confidence interval\n",
    "confidence_interval = stats.norm.interval(0.95, loc=mean_difference, scale=se_difference)\n",
    "\n",
    "print(f\"95% Confidence Interval for the Mean Difference: {confidence_interval}\")\n",
    "percentage_difference = (mean_difference / mean_fare_low) * 100\n",
    "print(f\"Percentage Difference: {percentage_difference:.2f}%\")"
   ]
  },
  {
   "cell_type": "code",
   "execution_count": null,
   "id": "d1e9f9ee",
   "metadata": {
    "scrolled": false
   },
   "outputs": [],
   "source": [
    "#Market Share Calculation: Determine the market share of each carrier on specific routes.\n",
    "large_ms_vc = df['large_ms'].value_counts()\n",
    "low_ms_vc = df['lf_ms'].value_counts()\n",
    "plt.figure(figsize=(9,3))\n",
    "plt.subplot(2,2,1)\n",
    "sns.scatterplot(x=large_ms_vc.index, y=large_ms_vc.values, marker='<', color='brown', s=60)\n",
    "plt.title(\"Market share of Large Carrier\")\n",
    "\n",
    "plt.subplot(2,2,2)\n",
    "sns.scatterplot(x=low_ms_vc.index, y=low_ms_vc.values, marker='+', color='green', s=60)\n",
    "plt.title(\"Market share of Low Carrier\")\n",
    "\n",
    "large_ms_airport_1 = df.groupby(\"airport_1\")['large_ms'].sum()\n",
    "large_ms_airport_1 = large_ms_airport_1.sort_values(ascending=False).head(10)\n",
    "\n",
    "lf_ms_airport_1 = df.groupby(\"airport_1\")['lf_ms'].sum()\n",
    "lf_ms_airport_1 = lf_ms_airport_1.sort_values(ascending=False).head(10)\n",
    "\n",
    "plt.figure(figsize=(13,5))\n",
    "plt.subplot(2,2,3)\n",
    "sns.barplot(x=large_ms_airport_1.index, y=large_ms_airport_1.values)\n",
    "plt.title(\"Top 10 Market share of Large Carrier\")\n",
    "\n",
    "plt.subplot(2,2,4)\n",
    "sns.barplot(x=lf_ms_airport_1.index, y=lf_ms_airport_1.values)\n",
    "plt.title(\"Top 10 Market share of Low Carrier\")\n",
    "\n",
    "plt.tight_layout()\n",
    "plt.show()"
   ]
  },
  {
   "cell_type": "markdown",
   "id": "21c2da7b",
   "metadata": {},
   "source": [
    "**Insights from market research analysis graphs are as follows:**"
   ]
  },
  {
   "cell_type": "markdown",
   "id": "726c3860",
   "metadata": {},
   "source": [
    "### Highest Fare prices accross different carriers:\n",
    "- **large carrier**:\n",
    "    - DFW    1837857.03\n",
    "    - ORD    1817854.93\n",
    "    - BOS    1804664.42\n",
    "    \n",
    "- **low carrier**:\n",
    "    - ORD    1617281.90\n",
    "    - MHT    1548422.38\n",
    "    - DFW    1505836.97\n",
    "    \n",
    "### Fare prices and passenger count Correlation:\n",
    "- passenger count goes above 8000 when the price of flights are lower than 600. Lower fare prices is directly proportional to High number of passengers\n",
    "\n",
    "### Independent Sample T test\n",
    "\n",
    "- T-statistic (123.56): This value measures the difference between the means of the two groups relative to the variation in their data. A higher absolute value indicates a larger difference.\n",
    "\n",
    "- P-value (0.0): The p-value tells you the probability that the observed difference between the two groups happened by chance. A p-value of 0.0 (or something extremely close to 0) indicates that the difference in fare prices between large carriers and low-cost carriers is statistically significant.\n",
    "\n",
    "- Degrees of Freedom (488,684): This is the number of independent pieces of information used to calculate the T-statistic. It’s based on the sample sizes of the two groups.\n",
    "\n",
    "**Interpretation:**\n",
    "\n",
    "- Since the p-value is 0.0, which is much lower than the common significance level of 0.05, you can reject the null hypothesis.\n",
    "- This result suggests that there is a statistically significant difference in fare prices between large carriers and low-cost carriers.\n",
    "\n",
    "###  The fare for large carriers is about 14.71% higher than that for low-cost carriers\n",
    "\n",
    "### Market Share Calculations :\n",
    "- Top 4 Large carriers market share routes: MDW, DAL, DFW, ORD\n",
    "- Top 4 Low carriers market share routes: MDW, DAL, HOU, ORD"
   ]
  },
  {
   "cell_type": "markdown",
   "id": "838368d2",
   "metadata": {},
   "source": [
    "# 3. Route Optimization"
   ]
  },
  {
   "cell_type": "markdown",
   "id": "3a77f7c8",
   "metadata": {},
   "source": [
    "**Visualizations:**"
   ]
  },
  {
   "cell_type": "code",
   "execution_count": null,
   "id": "9fe4943b",
   "metadata": {},
   "outputs": [],
   "source": [
    "#Bubble Chart:Visualize the number of passengers against the distance of the route with fare as the size of the bubble.\n",
    "import plotly.express as px \n",
    "\n",
    "fig = px.scatter(df, x=\"passengers\", y=\"nsmiles\", size='fare', color=\"city1\", hover_name=\"city1\", size_max=60,\n",
    "                 title=\"Passenger Traffic vs Distance with Fare as Bubble Size\") \n",
    "    \n",
    "fig.update_layout(\n",
    "    xaxis_title=\"Number of Passengers\",\n",
    "    yaxis_title=\"Route Distance (Miles)\",\n",
    "    legend_title=\"City\",\n",
    "    title_x=0.5\n",
    ")\n",
    "\n",
    "fig.show()"
   ]
  },
  {
   "cell_type": "markdown",
   "id": "86634396",
   "metadata": {},
   "source": [
    "**Clustering Analysis**"
   ]
  },
  {
   "cell_type": "code",
   "execution_count": null,
   "id": "87c2777a",
   "metadata": {},
   "outputs": [],
   "source": [
    "#Cluster Analysis Plot: Group routes with similar characteristics to identify potential new routes.\n",
    "from sklearn.cluster import KMeans\n",
    "from sklearn.preprocessing import StandardScaler\n",
    "features = df[['passengers', 'nsmiles', 'fare']]\n",
    "scaler = StandardScaler()\n",
    "scaled_features = scaler.fit_transform(features)\n",
    "\n",
    "# 2. Perform K-Means Clustering\n",
    "kmeans = KMeans(n_clusters=4, random_state=42)\n",
    "df['cluster'] = kmeans.fit_predict(scaled_features)\n",
    "\n",
    "plt.figure(figsize=(10, 6))\n",
    "sns.scatterplot(x='nsmiles', y='passengers', hue='cluster', data=df, palette='viridis', size='fare', sizes=(20, 200))\n",
    "plt.title(\"Cluster Analysis of Routes\")\n",
    "plt.xlabel(\"Route Distance (Miles)\")\n",
    "plt.ylabel(\"Number of Passengers\")\n",
    "plt.legend(title='Cluster')\n",
    "plt.show()"
   ]
  },
  {
   "cell_type": "code",
   "execution_count": null,
   "id": "b54e1f2b",
   "metadata": {},
   "outputs": [],
   "source": [
    "#Let's find an Optimal k\n",
    "distortions = []\n",
    "for k in range(1, 10):\n",
    "    kmeans = KMeans(n_clusters=k)\n",
    "    kmeans.fit(scaled_features)\n",
    "    distortions.append(kmeans.inertia_)\n",
    "\n",
    "plt.figure(figsize=(8, 4))\n",
    "plt.plot(range(1, 10), distortions, marker='o')\n",
    "plt.title('Elbow Method for Optimal k')\n",
    "plt.xlabel('Number of clusters')\n",
    "plt.ylabel('Distortion')\n",
    "plt.show()"
   ]
  },
  {
   "cell_type": "code",
   "execution_count": null,
   "id": "808c8083",
   "metadata": {},
   "outputs": [],
   "source": [
    "#optimal k = 3\n",
    "kmeans = KMeans(n_clusters=3, random_state=42)\n",
    "df['cluster'] = kmeans.fit_predict(scaled_features)\n",
    "\n",
    "plt.figure(figsize=(10, 6))\n",
    "sns.scatterplot(x='nsmiles', y='passengers', hue='cluster', data=df, palette='viridis', size='fare', sizes=(20, 200))\n",
    "plt.title(\"Cluster Analysis of Routes\")\n",
    "plt.xlabel(\"Route Distance (Miles)\")\n",
    "plt.ylabel(\"Number of Passengers\")\n",
    "plt.legend(title='Cluster')\n",
    "plt.show()"
   ]
  },
  {
   "cell_type": "markdown",
   "id": "01e78909",
   "metadata": {},
   "source": [
    "**Insights from Route Optimization graphs are as follows:**"
   ]
  },
  {
   "cell_type": "markdown",
   "id": "90587b6c",
   "metadata": {},
   "source": [
    "### Passenger Traffic:\n",
    "- It is seen that maximum number of passenger counts per flight falls between 0 - 3000\n",
    "- Los Angeles is the only city where passenger count has crossed 8000\n",
    "\n",
    "### Conclusion of Cluster Analysis\n",
    "\n",
    "The cluster analysis of flight routes has identified three distinct clusters, each representing different types of routes based on the distance traveled and the number of passengers. Here's a summary of the findings:\n",
    "\n",
    "1. **Cluster 1: Short-Haul, Low-Volume Routes**\n",
    "   - **Distance:** 0 - 1300 miles\n",
    "   - **Passengers:** 0 - 1000\n",
    "   - **Insight:** This cluster represents short-haul routes that typically serve a smaller number of passengers. These routes may be popular for regional or domestic flights, often connecting smaller cities or providing frequent service in high-density areas.\n",
    "\n",
    "2. **Cluster 2: Medium to Long-Haul, Moderate-Volume Routes**\n",
    "   - **Distance:** 1300 - 2500 miles and above\n",
    "   - **Passengers:** 0 - 1200\n",
    "   - **Insight:** These routes cover medium to long distances and have a moderate passenger volume. They likely include cross-country or international flights that serve medium-sized airports, connecting major cities with a balanced demand.\n",
    "\n",
    "3. **Cluster 3: All-Distance, High-Volume Routes**\n",
    "   - **Distance:** All distances\n",
    "   - **Passengers:** 1200 - 8000 and above\n",
    "   - **Insight:** Cluster 3 captures the high-volume routes across various distances. These routes are critical for connecting major hubs with large passenger flows, including popular international destinations and key domestic routes.\n"
   ]
  },
  {
   "cell_type": "markdown",
   "id": "c88b60fd",
   "metadata": {},
   "source": [
    "# Recommendations for Airlines"
   ]
  },
  {
   "cell_type": "markdown",
   "id": "042af9c3",
   "metadata": {},
   "source": [
    "#### 1. **Optimize Popular Routes**\n",
    "   - **Action:** Increase frequency or capacity on high-traffic routes such as Miami to Niagara Falls, Louisville to San Diego, and New York City to Omaha. Consider adding additional services or larger aircraft to accommodate high demand.\n",
    "   - **Insight:** Since these routes have high passenger traffic, optimizing them can improve customer satisfaction and increase revenue.\n",
    "\n",
    "#### 2. **Adjust for Seasonal Traffic**\n",
    "   - **Action:** Prepare for increased passenger volumes in the second quarter by scaling up services. This could include adding flights, adjusting schedules, or offering promotions to manage demand.\n",
    "   - **Insight:** Understanding seasonal variations allows airlines to better plan capacity and marketing efforts to match peak travel times.\n",
    "\n",
    "#### 3. **Analyze and Adapt Fare Pricing**\n",
    "   - **Action:** Implement dynamic pricing strategies based on passenger volume and fare prices. For routes where lower fares lead to higher passenger numbers, consider adjusting pricing strategies to balance revenue and load factors.\n",
    "   - **Insight:** The correlation between fare prices and passenger volume suggests that optimizing fare pricing could enhance overall profitability.\n",
    "\n",
    "#### 4. **Evaluate Carrier Performance**\n",
    "   - **Action:** Compare fare prices and passenger counts across different carriers. For routes with significant differences in fares, investigate why low-cost carriers have higher passenger numbers and assess if similar strategies can be applied to large carriers.\n",
    "   - **Insight:** Large carriers have higher fare prices, which might limit their market share compared to low-cost carriers. Consider strategies to enhance competitive pricing without compromising service quality.\n",
    "\n",
    "#### 5. **Focus on High-Volume Routes for Market Share**\n",
    "   - **Action:** Expand services on routes with high passenger counts and explore opportunities to gain market share in key cities such as Chicago, Los Angeles, New York City, and Washington DC.\n",
    "   - **Insight:** High-volume routes represent significant opportunities for growth and increased market presence.\n",
    "\n",
    "#### 6. **Address Passenger Decline During 2020**\n",
    "   - **Action:** Use insights from the decline in passenger traffic during 2020 to inform future strategies for handling similar disruptions. Implement flexible booking policies and health safety measures to mitigate impacts during crises.\n",
    "   - **Insight:** Preparing for future disruptions with contingency plans can help airlines manage passenger flows during unexpected events.\n",
    "\n",
    "#### 7. **Optimize Routes Based on Clustering Analysis**\n",
    "   - **Action:** Focus on high-volume routes identified in Cluster 3 for expansion and route optimization. For short-haul and medium-haul routes (Clusters 1 and 2), ensure efficient operations and explore opportunities for improvement.\n",
    "   - **Insight:** Tailoring strategies to different clusters of routes can improve operational efficiency and customer satisfaction."
   ]
  },
  {
   "cell_type": "code",
   "execution_count": null,
   "id": "34a8286d",
   "metadata": {},
   "outputs": [],
   "source": []
  }
 ],
 "metadata": {
  "kernelspec": {
   "display_name": "Python 3 (ipykernel)",
   "language": "python",
   "name": "python3"
  },
  "language_info": {
   "codemirror_mode": {
    "name": "ipython",
    "version": 3
   },
   "file_extension": ".py",
   "mimetype": "text/x-python",
   "name": "python",
   "nbconvert_exporter": "python",
   "pygments_lexer": "ipython3",
   "version": "3.11.5"
  }
 },
 "nbformat": 4,
 "nbformat_minor": 5
}
